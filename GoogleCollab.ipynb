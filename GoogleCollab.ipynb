{
  "nbformat": 4,
  "nbformat_minor": 0,
  "metadata": {
    "colab": {
      "name": "Untitled3.ipynb",
      "provenance": [],
      "authorship_tag": "ABX9TyMOceqjdqB/xiLE/q72tXCL",
      "include_colab_link": true
    },
    "kernelspec": {
      "name": "python3",
      "display_name": "Python 3"
    },
    "language_info": {
      "name": "python"
    }
  },
  "cells": [
    {
      "cell_type": "markdown",
      "metadata": {
        "id": "view-in-github",
        "colab_type": "text"
      },
      "source": [
        "<a href=\"https://colab.research.google.com/github/EricJonsson/RLProject/blob/master/GoogleCollab.ipynb\" target=\"_parent\"><img src=\"https://colab.research.google.com/assets/colab-badge.svg\" alt=\"Open In Colab\"/></a>"
      ]
    },
    {
      "cell_type": "code",
      "metadata": {
        "colab": {
          "base_uri": "https://localhost:8080/"
        },
        "id": "rZzWBfwU5JaM",
        "outputId": "7586bfe6-6579-458e-a562-63d673922cbb"
      },
      "source": [
        "!git clone https://github.com/EricJonsson/RLProject.git\n"
      ],
      "execution_count": 1,
      "outputs": [
        {
          "output_type": "stream",
          "text": [
            "Cloning into 'RLProject'...\n",
            "remote: Enumerating objects: 60, done.\u001b[K\n",
            "remote: Counting objects: 100% (60/60), done.\u001b[K\n",
            "remote: Compressing objects: 100% (37/37), done.\u001b[K\n",
            "remote: Total 60 (delta 30), reused 49 (delta 19), pack-reused 0\u001b[K\n",
            "Unpacking objects: 100% (60/60), done.\n"
          ],
          "name": "stdout"
        }
      ]
    },
    {
      "cell_type": "code",
      "metadata": {
        "colab": {
          "base_uri": "https://localhost:8080/"
        },
        "id": "03X68PrD5Oxp",
        "outputId": "52e7e8ea-7330-4e9f-a577-aab6b7a6bd08"
      },
      "source": [
        "%cd RLProject/\n",
        "!git pull\n"
      ],
      "execution_count": 5,
      "outputs": [
        {
          "output_type": "stream",
          "text": [
            "[Errno 2] No such file or directory: 'RLProject/'\n",
            "/content/RLProject\n",
            "remote: Enumerating objects: 5, done.\u001b[K\n",
            "remote: Counting objects: 100% (5/5), done.\u001b[K\n",
            "remote: Compressing objects: 100% (1/1), done.\u001b[K\n",
            "remote: Total 3 (delta 2), reused 3 (delta 2), pack-reused 0\u001b[K\n",
            "Unpacking objects: 100% (3/3), done.\n",
            "From https://github.com/EricJonsson/RLProject\n",
            "   b3fa390..b70ee7d  master     -> origin/master\n",
            "Updating b3fa390..b70ee7d\n",
            "Fast-forward\n",
            " dqn.py | 5 \u001b[32m+++++\u001b[m\n",
            " 1 file changed, 5 insertions(+)\n"
          ],
          "name": "stdout"
        }
      ]
    },
    {
      "cell_type": "code",
      "metadata": {
        "colab": {
          "base_uri": "https://localhost:8080/"
        },
        "id": "SEls73-c5XyQ",
        "outputId": "8da2e0cb-3d0b-490a-f476-9f6a01563517"
      },
      "source": [
        "!python3 train.py --env Pong-v0"
      ],
      "execution_count": 33,
      "outputs": [
        {
          "output_type": "stream",
          "text": [
            "Traceback (most recent call last):\n",
            "  File \"train.py\", line 56, in <module>\n",
            "    env.render()\n",
            "  File \"/usr/local/lib/python3.7/dist-packages/gym/core.py\", line 240, in render\n",
            "    return self.env.render(mode, **kwargs)\n",
            "  File \"/usr/local/lib/python3.7/dist-packages/gym/envs/atari/atari_env.py\", line 152, in render\n",
            "    from gym.envs.classic_control import rendering\n",
            "  File \"/usr/local/lib/python3.7/dist-packages/gym/envs/classic_control/rendering.py\", line 25, in <module>\n",
            "    from pyglet.gl import *\n",
            "  File \"/usr/local/lib/python3.7/dist-packages/pyglet/gl/__init__.py\", line 244, in <module>\n",
            "    import pyglet.window\n",
            "  File \"/usr/local/lib/python3.7/dist-packages/pyglet/window/__init__.py\", line 1880, in <module>\n",
            "    gl._create_shadow_window()\n",
            "  File \"/usr/local/lib/python3.7/dist-packages/pyglet/gl/__init__.py\", line 220, in _create_shadow_window\n",
            "    _shadow_window = Window(width=1, height=1, visible=False)\n",
            "  File \"/usr/local/lib/python3.7/dist-packages/pyglet/window/xlib/__init__.py\", line 165, in __init__\n",
            "    super(XlibWindow, self).__init__(*args, **kwargs)\n",
            "  File \"/usr/local/lib/python3.7/dist-packages/pyglet/window/__init__.py\", line 570, in __init__\n",
            "    display = pyglet.canvas.get_display()\n",
            "  File \"/usr/local/lib/python3.7/dist-packages/pyglet/canvas/__init__.py\", line 94, in get_display\n",
            "    return Display()\n",
            "  File \"/usr/local/lib/python3.7/dist-packages/pyglet/canvas/xlib.py\", line 123, in __init__\n",
            "    raise NoSuchDisplayException('Cannot connect to \"%s\"' % name)\n",
            "pyglet.canvas.xlib.NoSuchDisplayException: Cannot connect to \"None\"\n"
          ],
          "name": "stdout"
        }
      ]
    },
    {
      "cell_type": "code",
      "metadata": {
        "id": "v0x7AzqdAOcC"
      },
      "source": [
        "!git config --global user.email \"eric.jonsson.2298@student.uu.se\""
      ],
      "execution_count": 36,
      "outputs": []
    },
    {
      "cell_type": "code",
      "metadata": {
        "id": "VmCpIQZdF3bN"
      },
      "source": [
        "!git config --global user.name \"Eric\""
      ],
      "execution_count": 40,
      "outputs": []
    },
    {
      "cell_type": "code",
      "metadata": {
        "colab": {
          "base_uri": "https://localhost:8080/"
        },
        "id": "8Hb6Fad9FskT",
        "outputId": "8de23db0-956b-480f-d328-816938c2cde2"
      },
      "source": [
        "!git commit -m \"Push\""
      ],
      "execution_count": 38,
      "outputs": [
        {
          "output_type": "stream",
          "text": [
            "[master fdae5cd] Push\n",
            " 7 files changed, 7 insertions(+), 8 deletions(-)\n",
            " create mode 100644 __pycache__/config.cpython-37.pyc\n",
            " create mode 100644 __pycache__/dqn.cpython-37.pyc\n",
            " create mode 100644 __pycache__/evaluate.cpython-37.pyc\n",
            " create mode 100644 __pycache__/utils.cpython-37.pyc\n"
          ],
          "name": "stdout"
        }
      ]
    },
    {
      "cell_type": "code",
      "metadata": {
        "colab": {
          "base_uri": "https://localhost:8080/"
        },
        "id": "GmL8k2rcFyWF",
        "outputId": "759ec1e3-b55c-4014-c6bf-4eb993ffdf80"
      },
      "source": [
        "!git p"
      ],
      "execution_count": 42,
      "outputs": [
        {
          "output_type": "stream",
          "text": [
            "fatal: could not read Username for 'https://github.com': No such device or address\n"
          ],
          "name": "stdout"
        }
      ]
    }
  ]
}